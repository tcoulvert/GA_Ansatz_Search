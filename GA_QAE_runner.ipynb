{
 "cells": [
  {
   "cell_type": "code",
   "execution_count": 1,
   "id": "506e996c-ae80-4f20-91a7-22644a48a281",
   "metadata": {
    "tags": []
   },
   "outputs": [],
   "source": [
    "import scipy as sp\n",
    "from pennylane import numpy as np\n",
    "from sklearn.preprocessing import MinMaxScaler\n",
    "\n",
    "from GA_Manager import backend"
   ]
  },
  {
   "cell_type": "code",
   "execution_count": 2,
   "id": "d4b4cd19-eef8-47f9-a9a2-d87909b2c5b3",
   "metadata": {},
   "outputs": [],
   "source": [
    "events = np.load('10k_dijet.npy', requires_grad=False)\n",
    "scaler = MinMaxScaler(feature_range=(0, sp.pi))\n",
    "events = scaler.fit_transform(events)"
   ]
  },
  {
   "cell_type": "code",
   "execution_count": 3,
   "id": "45c38b51-3302-4785-a5de-5f977fb5030c",
   "metadata": {},
   "outputs": [
    {
     "name": "stdout",
     "output_type": "stream",
     "text": [
      "Initial generation/selection in 4.08 seconds\n"
     ]
    }
   ],
   "source": [
    "rng_seed = None\n",
    "rng = np.random.default_rng(seed=rng_seed)\n",
    "\n",
    "config = {\n",
    "    'backend_type': 'high',\n",
    "    'max_concurrent': 2,\n",
    "    'n_qubits': 3,\n",
    "    'max_moments': 10,\n",
    "    'add_moment_prob': 0.3,\n",
    "    'gates_arr': ['I', 'RX', 'RY', 'RZ', 'CNOT'],\n",
    "    'gates_probs': [0.175, 0.175, 0.175, 0.175, 0.3],\n",
    "    'pop_size': 2, # must be a multiple of max_concurrent\n",
    "    'init_pop_size': 1000,\n",
    "    'n_new_individuals': 6,\n",
    "    'n_winners': 2, # needs to be an even number\n",
    "    'n_mutations': 2,\n",
    "    'n_mate_swaps': 1,\n",
    "    'n_steps': 15,\n",
    "    'latent_qubits': 1,\n",
    "    'n_shots': 5000,\n",
    "    'seed': rng_seed,\n",
    "    'events': events,\n",
    "    'train_size': 10,\n",
    "}\n",
    "\n",
    "ga = backend(config)"
   ]
  },
  {
   "cell_type": "code",
   "execution_count": 4,
   "id": "ae44565f-30ea-4d47-af05-d4f5b45cb1ef",
   "metadata": {},
   "outputs": [
    {
     "name": "stdout",
     "output_type": "stream",
     "text": [
      "GA iteration 0\n",
      "Mem GA process - 280.890625\n",
      "[{0: 'I', 1: 'RX', 2: 'RZ'}, {0: 'RX', 1: 'RX', 2: 'I'}, {0: 'RZ', 1: 'RY', 2: 'I'}]\n",
      "[0.0, 0.0, 0.0, 0.0, 0.0, 0.0, 0.0, 0.0, 0.0, 0.0, 0.0, 0.0]\n",
      "theta 1\n",
      "[0.0164428  2.5442083  0.99483816 2.71218727 1.60271742 1.23934551\n",
      " 0.20855162 1.81028431 0.39371594 1.16296114 1.94888503 1.24220354]\n",
      "theta 2\n",
      "[ 0.0164428   2.5442083   0.99483816  2.71218727  1.60271742  1.23934551\n",
      " -0.05277996  1.81253526  0.39270327  0.89231441  1.6078906   1.24213583]\n",
      "Mem qml final - 328.0625\n",
      "/storage/af/user/tsievert/SFP22/qae_runs_2022-09-08_11-59-59/opt_thetas/00_000ga_best1e+01_data_theta.npy\n",
      "qae_runs_2022-09-08_11-59-59/opt_thetas/00_000ga_best1e+01_data_theta.npy\n",
      "[ 0.0164428   2.5442083   0.99483816  2.71218727  1.60271742  1.23934551\n",
      "  0.61618201  1.85424369  0.39747831  1.54331994 -0.00273024  1.24217073]\n",
      "expval(PauliZ(wires=[5]))\n",
      "<class 'pennylane.measurements.MeasurementProcess'>\n",
      "[0.18134465 0.6031195  0.73876438]\n",
      "{'qnode': <QNode: wires=6, device='qulacs.simulator', interface='autograd', diff_method='best'>, 'ansatz': [\"qml.broadcast(qml.RX, wires=[1], pattern='single', parameters=params[6:7])\", \"qml.broadcast(qml.RZ, wires=[2], pattern='single', parameters=params[7:8])\", \"qml.broadcast(qml.RX, wires=[0, 1], pattern='single', parameters=params[8:10])\", \"qml.broadcast(qml.RY, wires=[1], pattern='single', parameters=params[10:11])\", \"qml.broadcast(qml.RZ, wires=[0], pattern='single', parameters=params[11:12])\"], 'ansatz_save': [{0: 'I', 1: 'RX', 2: 'RZ'}, {0: 'RX', 1: 'RX', 2: 'I'}, {0: 'RZ', 1: 'RY', 2: 'I'}], 'params': [0.0, 0.0, 0.0, 0.0, 0.0, 0.0, 0.0, 0.0, 0.0, 0.0, 0.0, 0.0], 'train_size': 10, 'n_latent_qubits': 1, 'n_trash_qubits': 2, 'n_wires': 6, 'swap_pattern': [[5, 1, 3], [5, 2, 4]], 'rng_seed': None, 'ix': 0, 'gen': 0, 'start_time': '2022-09-08_11-59-59'}\n"
     ]
    },
    {
     "ename": "TypeError",
     "evalue": "float() argument must be a string or a number, not 'MeasurementProcess'",
     "output_type": "error",
     "traceback": [
      "\u001b[0;31m---------------------------------------------------------------------------\u001b[0m",
      "\u001b[0;31mRemoteTraceback\u001b[0m                           Traceback (most recent call last)",
      "\u001b[0;31mRemoteTraceback\u001b[0m: \n\"\"\"\nTraceback (most recent call last):\n  File \"/usr/lib64/python3.8/multiprocessing/pool.py\", line 125, in worker\n    result = (True, func(*args, **kwds))\n  File \"/usr/lib64/python3.8/multiprocessing/pool.py\", line 51, in starmapstar\n    return list(itertools.starmap(args[0], args[1]))\n  File \"/storage/af/user/tsievert/SFP22/qae.py\", line 52, in main\n    best_fid = train(events, config)\n  File \"/storage/af/user/tsievert/SFP22/qae.py\", line 179, in train\n    return compute_auroc(filepath_thetas, config)\n  File \"/storage/af/user/tsievert/SFP22/qae.py\", line 217, in compute_auroc\n    auroc = roc_auc_score(event_class, cost)\n  File \"/usr/local/lib64/python3.8/site-packages/sklearn/metrics/_ranking.py\", line 548, in roc_auc_score\n    y_score = check_array(y_score, ensure_2d=False)\n  File \"/usr/local/lib64/python3.8/site-packages/sklearn/utils/validation.py\", line 856, in check_array\n    array = np.asarray(array, order=order, dtype=dtype)\nTypeError: float() argument must be a string or a number, not 'MeasurementProcess'\n\"\"\"",
      "\nThe above exception was the direct cause of the following exception:\n",
      "\u001b[0;31mTypeError\u001b[0m                                 Traceback (most recent call last)",
      "Input \u001b[0;32mIn [4]\u001b[0m, in \u001b[0;36m<cell line: 1>\u001b[0;34m()\u001b[0m\n\u001b[0;32m----> 1\u001b[0m \u001b[43mga\u001b[49m\u001b[38;5;241;43m.\u001b[39;49m\u001b[43mevolve\u001b[49m\u001b[43m(\u001b[49m\u001b[43m)\u001b[49m\n",
      "File \u001b[0;32m~/SFP22/simple_ga.py:256\u001b[0m, in \u001b[0;36mModel.evolve\u001b[0;34m(self)\u001b[0m\n\u001b[1;32m    254\u001b[0m \u001b[38;5;28mprint\u001b[39m(\u001b[38;5;124mf\u001b[39m\u001b[38;5;124m'\u001b[39m\u001b[38;5;124mMem GA process - \u001b[39m\u001b[38;5;132;01m{\u001b[39;00mpsutil\u001b[38;5;241m.\u001b[39mProcess()\u001b[38;5;241m.\u001b[39mmemory_info()\u001b[38;5;241m.\u001b[39mrss \u001b[38;5;241m/\u001b[39m (\u001b[38;5;241m1024\u001b[39m \u001b[38;5;241m*\u001b[39m \u001b[38;5;241m1024\u001b[39m)\u001b[38;5;132;01m}\u001b[39;00m\u001b[38;5;124m'\u001b[39m)\n\u001b[1;32m    255\u001b[0m \u001b[38;5;28mself\u001b[39m\u001b[38;5;241m.\u001b[39mfitness_arr \u001b[38;5;241m=\u001b[39m [\u001b[38;5;241m0\u001b[39m \u001b[38;5;28;01mfor\u001b[39;00m i \u001b[38;5;129;01min\u001b[39;00m \u001b[38;5;28mself\u001b[39m\u001b[38;5;241m.\u001b[39mpopulation]\n\u001b[0;32m--> 256\u001b[0m \u001b[38;5;28;43mself\u001b[39;49m\u001b[38;5;241;43m.\u001b[39;49m\u001b[43mevaluate_fitness\u001b[49m\u001b[43m(\u001b[49m\u001b[43mstep\u001b[49m\u001b[43m)\u001b[49m\n\u001b[1;32m    258\u001b[0m results \u001b[38;5;241m=\u001b[39m \u001b[38;5;28mself\u001b[39m\u001b[38;5;241m.\u001b[39mmake_results()\n\u001b[1;32m    260\u001b[0m parents \u001b[38;5;241m=\u001b[39m \u001b[38;5;28mself\u001b[39m\u001b[38;5;241m.\u001b[39mselect()\n",
      "File \u001b[0;32m~/SFP22/simple_ga.py:295\u001b[0m, in \u001b[0;36mModel.evaluate_fitness\u001b[0;34m(self, gen)\u001b[0m\n\u001b[1;32m    293\u001b[0m \u001b[38;5;28;01mfor\u001b[39;00m i \u001b[38;5;129;01min\u001b[39;00m \u001b[38;5;28mrange\u001b[39m(\u001b[38;5;28mself\u001b[39m\u001b[38;5;241m.\u001b[39mpop_size\u001b[38;5;241m/\u001b[39m\u001b[38;5;241m/\u001b[39m\u001b[38;5;28mself\u001b[39m\u001b[38;5;241m.\u001b[39mmax_concurrent):\n\u001b[1;32m    294\u001b[0m     \u001b[38;5;28;01mwith\u001b[39;00m mp\u001b[38;5;241m.\u001b[39mget_context(\u001b[38;5;124m\"\u001b[39m\u001b[38;5;124mspawn\u001b[39m\u001b[38;5;124m\"\u001b[39m)\u001b[38;5;241m.\u001b[39mPool(processes\u001b[38;5;241m=\u001b[39m\u001b[38;5;28mlen\u001b[39m(args_arr)) \u001b[38;5;28;01mas\u001b[39;00m pool:\n\u001b[0;32m--> 295\u001b[0m         \u001b[38;5;28mself\u001b[39m\u001b[38;5;241m.\u001b[39mfitness_arr\u001b[38;5;241m.\u001b[39mextend(\u001b[43mpool\u001b[49m\u001b[38;5;241;43m.\u001b[39;49m\u001b[43mstarmap\u001b[49m\u001b[43m(\u001b[49m\u001b[43mmain\u001b[49m\u001b[43m,\u001b[49m\u001b[43m \u001b[49m\u001b[43margs_arr\u001b[49m\u001b[43m[\u001b[49m\u001b[43mi\u001b[49m\u001b[38;5;241;43m*\u001b[39;49m\u001b[38;5;28;43mself\u001b[39;49m\u001b[38;5;241;43m.\u001b[39;49m\u001b[43mmax_concurrent\u001b[49m\u001b[43m:\u001b[49m\u001b[43m(\u001b[49m\u001b[43mi\u001b[49m\u001b[38;5;241;43m+\u001b[39;49m\u001b[38;5;241;43m1\u001b[39;49m\u001b[43m)\u001b[49m\u001b[38;5;241;43m*\u001b[39;49m\u001b[38;5;28;43mself\u001b[39;49m\u001b[38;5;241;43m.\u001b[39;49m\u001b[43mmax_concurrent\u001b[49m\u001b[43m]\u001b[49m\u001b[43m)\u001b[49m)\n\u001b[1;32m    296\u001b[0m end_time \u001b[38;5;241m=\u001b[39m time\u001b[38;5;241m.\u001b[39mtime()\n\u001b[1;32m    297\u001b[0m exec_time \u001b[38;5;241m=\u001b[39m end_time\u001b[38;5;241m-\u001b[39mstart_time\n",
      "File \u001b[0;32m/usr/lib64/python3.8/multiprocessing/pool.py:372\u001b[0m, in \u001b[0;36mPool.starmap\u001b[0;34m(self, func, iterable, chunksize)\u001b[0m\n\u001b[1;32m    366\u001b[0m \u001b[38;5;28;01mdef\u001b[39;00m \u001b[38;5;21mstarmap\u001b[39m(\u001b[38;5;28mself\u001b[39m, func, iterable, chunksize\u001b[38;5;241m=\u001b[39m\u001b[38;5;28;01mNone\u001b[39;00m):\n\u001b[1;32m    367\u001b[0m     \u001b[38;5;124;03m'''\u001b[39;00m\n\u001b[1;32m    368\u001b[0m \u001b[38;5;124;03m    Like `map()` method but the elements of the `iterable` are expected to\u001b[39;00m\n\u001b[1;32m    369\u001b[0m \u001b[38;5;124;03m    be iterables as well and will be unpacked as arguments. Hence\u001b[39;00m\n\u001b[1;32m    370\u001b[0m \u001b[38;5;124;03m    `func` and (a, b) becomes func(a, b).\u001b[39;00m\n\u001b[1;32m    371\u001b[0m \u001b[38;5;124;03m    '''\u001b[39;00m\n\u001b[0;32m--> 372\u001b[0m     \u001b[38;5;28;01mreturn\u001b[39;00m \u001b[38;5;28;43mself\u001b[39;49m\u001b[38;5;241;43m.\u001b[39;49m\u001b[43m_map_async\u001b[49m\u001b[43m(\u001b[49m\u001b[43mfunc\u001b[49m\u001b[43m,\u001b[49m\u001b[43m \u001b[49m\u001b[43miterable\u001b[49m\u001b[43m,\u001b[49m\u001b[43m \u001b[49m\u001b[43mstarmapstar\u001b[49m\u001b[43m,\u001b[49m\u001b[43m \u001b[49m\u001b[43mchunksize\u001b[49m\u001b[43m)\u001b[49m\u001b[38;5;241;43m.\u001b[39;49m\u001b[43mget\u001b[49m\u001b[43m(\u001b[49m\u001b[43m)\u001b[49m\n",
      "File \u001b[0;32m/usr/lib64/python3.8/multiprocessing/pool.py:771\u001b[0m, in \u001b[0;36mApplyResult.get\u001b[0;34m(self, timeout)\u001b[0m\n\u001b[1;32m    769\u001b[0m     \u001b[38;5;28;01mreturn\u001b[39;00m \u001b[38;5;28mself\u001b[39m\u001b[38;5;241m.\u001b[39m_value\n\u001b[1;32m    770\u001b[0m \u001b[38;5;28;01melse\u001b[39;00m:\n\u001b[0;32m--> 771\u001b[0m     \u001b[38;5;28;01mraise\u001b[39;00m \u001b[38;5;28mself\u001b[39m\u001b[38;5;241m.\u001b[39m_value\n",
      "\u001b[0;31mTypeError\u001b[0m: float() argument must be a string or a number, not 'MeasurementProcess'"
     ]
    }
   ],
   "source": [
    "ga.evolve()"
   ]
  },
  {
   "cell_type": "code",
   "execution_count": null,
   "id": "fb6181d6-a8d0-4a25-a9c1-c01de7ba85f5",
   "metadata": {},
   "outputs": [],
   "source": []
  }
 ],
 "metadata": {
  "kernelspec": {
   "display_name": "Python 3 (ipykernel)",
   "language": "python",
   "name": "python3"
  },
  "language_info": {
   "codemirror_mode": {
    "name": "ipython",
    "version": 3
   },
   "file_extension": ".py",
   "mimetype": "text/x-python",
   "name": "python",
   "nbconvert_exporter": "python",
   "pygments_lexer": "ipython3",
   "version": "3.8.8"
  }
 },
 "nbformat": 4,
 "nbformat_minor": 5
}
