{
 "cells": [
  {
   "cell_type": "code",
   "execution_count": 1,
   "id": "506e996c-ae80-4f20-91a7-22644a48a281",
   "metadata": {
    "tags": []
   },
   "outputs": [],
   "source": [
    "import scipy as sp\n",
    "from pennylane import numpy as np\n",
    "from sklearn.preprocessing import MinMaxScaler\n",
    "\n",
    "from GA_Manager import backend"
   ]
  },
  {
   "cell_type": "code",
   "execution_count": 2,
   "id": "d4b4cd19-eef8-47f9-a9a2-d87909b2c5b3",
   "metadata": {},
   "outputs": [],
   "source": [
    "events = np.load('10k_dijet.npy', requires_grad=False)\n",
    "scaler = MinMaxScaler(feature_range=(0, sp.pi))\n",
    "events = scaler.fit_transform(events)"
   ]
  },
  {
   "cell_type": "code",
   "execution_count": 3,
   "id": "45c38b51-3302-4785-a5de-5f977fb5030c",
   "metadata": {},
   "outputs": [],
   "source": [
    "rng_seed = None\n",
    "rng = np.random.default_rng(seed=rng_seed)\n",
    "\n",
    "config = {\n",
    "    'backend_type': 'high',\n",
    "    'n_qubits': 3,\n",
    "    'n_moments': 4,\n",
    "    'gates_arr': ['I', 'RX', 'RY', 'RZ', 'CNOT'],\n",
    "    'gates_probs': [0.125, 0.125, 0.125, 0.125, 0.5],\n",
    "    'pop_size': 30,\n",
    "    'n_winners': 15,\n",
    "    'n_mutations': 2,\n",
    "    'n_steps': 15,\n",
    "    'latent_qubits': 1,\n",
    "    'n_shots': 500,\n",
    "    'seed': rng_seed,\n",
    "    'events': events\n",
    "}\n",
    "\n",
    "ga = backend(config)"
   ]
  },
  {
   "cell_type": "code",
   "execution_count": null,
   "id": "ae44565f-30ea-4d47-af05-d4f5b45cb1ef",
   "metadata": {},
   "outputs": [
    {
     "name": "stdout",
     "output_type": "stream",
     "text": [
      "GA iteration 0\n"
     ]
    }
   ],
   "source": [
    "ga.evolve()"
   ]
  }
 ],
 "metadata": {
  "kernelspec": {
   "display_name": "Python 3 (ipykernel)",
   "language": "python",
   "name": "python3"
  },
  "language_info": {
   "codemirror_mode": {
    "name": "ipython",
    "version": 3
   },
   "file_extension": ".py",
   "mimetype": "text/x-python",
   "name": "python",
   "nbconvert_exporter": "python",
   "pygments_lexer": "ipython3",
   "version": "3.8.8"
  }
 },
 "nbformat": 4,
 "nbformat_minor": 5
}
