{
 "cells": [
  {
   "cell_type": "code",
   "execution_count": 1,
   "id": "506e996c-ae80-4f20-91a7-22644a48a281",
   "metadata": {
    "tags": []
   },
   "outputs": [],
   "source": [
    "import scipy as sp\n",
    "from pennylane import numpy as np\n",
    "from sklearn.preprocessing import MinMaxScaler\n",
    "\n",
    "from GA_Manager import backend"
   ]
  },
  {
   "cell_type": "code",
   "execution_count": 2,
   "id": "d4b4cd19-eef8-47f9-a9a2-d87909b2c5b3",
   "metadata": {},
   "outputs": [],
   "source": [
    "events = np.load('10k_dijet.npy', requires_grad=False)\n",
    "scaler = MinMaxScaler(feature_range=(0, sp.pi))\n",
    "events = scaler.fit_transform(events)"
   ]
  },
  {
   "cell_type": "code",
   "execution_count": 3,
   "id": "45c38b51-3302-4785-a5de-5f977fb5030c",
   "metadata": {},
   "outputs": [],
   "source": [
    "rng_seed = None\n",
    "rng = np.random.default_rng(seed=rng_seed)\n",
    "\n",
    "config = {\n",
    "    'backend_type': 'high',\n",
    "    'n_qubits': 3,\n",
    "    'n_moments': 4,\n",
    "    'gates_arr': ['I', 'RX', 'RY', 'RZ', 'CNOT'],\n",
    "    'pop_size': 5,\n",
    "    'n_winners': 2,\n",
    "    'n_mutations': 2,\n",
    "    'n_steps': 50,\n",
    "    'latent_qubits': 1,\n",
    "    'n_shots': 5000,\n",
    "    'seed': rng_seed,\n",
    "    'events': events\n",
    "}\n",
    "\n",
    "ga = backend(config)"
   ]
  },
  {
   "cell_type": "code",
   "execution_count": null,
   "id": "ae44565f-30ea-4d47-af05-d4f5b45cb1ef",
   "metadata": {},
   "outputs": [
    {
     "name": "stdout",
     "output_type": "stream",
     "text": [
      "GA iteration 0\n",
      "5\n",
      "Step 99 with cost -0.0148\n",
      "Step 99 with cost 0.0188\n",
      "Step 99 with cost 0.0016\n",
      "Step 99 with cost -0.0120\n",
      "Step 99 with cost 0.0048\n",
      "QML Optimization in 16.85 seconds\n",
      "5\n",
      "Best Fitness: 1.0238613861386139, Best ansatz: [{0: 'RZ', 1: 'RX', 2: 'RZ'}, {0: 'CNOT_T-2', 1: 'RX', 2: 'CNOT_C-0'}, {0: 'I', 1: 'RZ', 2: 'RY'}, {0: 'RY', 1: 'CNOT_T-2', 2: 'CNOT_C-1'}]\n",
      "GA iteration 1\n",
      "5\n",
      "Step 99 with cost 0.0048\n",
      "Step 99 with cost -0.0072\n",
      "Step 99 with cost 0.0040\n",
      "Step 99 with cost -0.0144\n",
      "Step 99 with cost 0.0116\n",
      "QML Optimization in 73.87 seconds\n",
      "5\n",
      "Best Fitness: 1.0311128712871287, Best ansatz: [{0: 'CNOT_T-1', 1: 'CNOT_C-0', 2: 'RZ'}, {0: 'I', 1: 'RZ', 2: 'RY'}, {0: 'I', 1: 'RZ', 2: 'RY'}, {0: 'RY', 1: 'CNOT_C-2', 2: 'CNOT_T-1'}]\n",
      "GA iteration 2\n",
      "5\n",
      "Step 99 with cost -0.0108\n",
      "Step 99 with cost -0.0112\n",
      "Step 99 with cost 0.0144\n",
      "Step 99 with cost 0.0228\n",
      "Step 99 with cost 0.0188\n",
      "QML Optimization in 202.23 seconds\n",
      "5\n",
      "Best Fitness: 1.031920792079208, Best ansatz: [{0: 'CNOT_T-2', 1: 'I', 2: 'CNOT_C-0'}, {0: 'CNOT_T-1', 1: 'CNOT_C-0', 2: 'RZ'}, {0: 'CNOT_T-1', 1: 'CNOT_C-0', 2: 'RZ'}, {0: 'I', 1: 'I', 2: 'RZ'}]\n",
      "GA iteration 3\n",
      "5\n",
      "Step 99 with cost -0.0016\n",
      "Step 99 with cost -0.0020\n",
      "Step 99 with cost 0.0148\n",
      "Step 99 with cost 0.0124\n",
      "Step 99 with cost -0.0240\n",
      "QML Optimization in 297.01 seconds\n",
      "5\n",
      "Best Fitness: 1.0383247524752475, Best ansatz: [{0: 'CNOT_T-2', 1: 'I', 2: 'CNOT_C-0'}, {0: 'CNOT_T-2', 1: 'I', 2: 'CNOT_C-0'}, {0: 'CNOT_T-2', 1: 'I', 2: 'CNOT_C-0'}, {0: 'RZ', 1: 'I', 2: 'RY'}]\n",
      "GA iteration 4\n",
      "5\n",
      "Step 99 with cost 0.0056\n",
      "Step 99 with cost -0.0044\n",
      "Step 99 with cost -0.0172\n",
      "Step 99 with cost -0.0212\n",
      "Step 99 with cost -0.0112\n",
      "QML Optimization in 440.65 seconds\n",
      "5\n",
      "Best Fitness: 1.0383247524752475, Best ansatz: [{0: 'I', 1: 'I', 2: 'I'}, {0: 'I', 1: 'I', 2: 'I'}, {0: 'I', 1: 'I', 2: 'I'}, {0: 'RY', 1: 'I', 2: 'RX'}]\n",
      "GA iteration 5\n",
      "5\n",
      "Step 99 with cost 0.0116\n",
      "Step 99 with cost 0.0048\n",
      "Step 99 with cost 0.0016\n",
      "Step 99 with cost 0.0136\n",
      "Step 99 with cost -0.0108\n",
      "QML Optimization in 448.09 seconds\n",
      "5\n",
      "Best Fitness: 1.0383247524752475, Best ansatz: [{0: 'RZ', 1: 'I', 2: 'I'}, {0: 'RZ', 1: 'I', 2: 'I'}, {0: 'RZ', 1: 'I', 2: 'I'}, {0: 'RY', 1: 'CNOT_C-2', 2: 'CNOT_T-1'}]\n",
      "GA iteration 6\n",
      "5\n"
     ]
    }
   ],
   "source": [
    "ga.evolve()"
   ]
  }
 ],
 "metadata": {
  "kernelspec": {
   "display_name": "Python 3 (ipykernel)",
   "language": "python",
   "name": "python3"
  },
  "language_info": {
   "codemirror_mode": {
    "name": "ipython",
    "version": 3
   },
   "file_extension": ".py",
   "mimetype": "text/x-python",
   "name": "python",
   "nbconvert_exporter": "python",
   "pygments_lexer": "ipython3",
   "version": "3.8.8"
  }
 },
 "nbformat": 4,
 "nbformat_minor": 5
}
