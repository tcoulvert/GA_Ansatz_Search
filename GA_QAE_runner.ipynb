{
 "cells": [
  {
   "cell_type": "code",
   "execution_count": 1,
   "id": "506e996c-ae80-4f20-91a7-22644a48a281",
   "metadata": {
    "tags": []
   },
   "outputs": [],
   "source": [
    "import scipy as sp\n",
    "from pennylane import numpy as np\n",
    "from sklearn.preprocessing import MinMaxScaler\n",
    "\n",
    "from GA_Manager import backend"
   ]
  },
  {
   "cell_type": "code",
   "execution_count": 2,
   "id": "d4b4cd19-eef8-47f9-a9a2-d87909b2c5b3",
   "metadata": {},
   "outputs": [],
   "source": [
    "events = np.load('10k_dijet.npy', requires_grad=False)\n",
    "scaler = MinMaxScaler(feature_range=(0, sp.pi))\n",
    "events = scaler.fit_transform(events)"
   ]
  },
  {
   "cell_type": "code",
   "execution_count": 3,
   "id": "45c38b51-3302-4785-a5de-5f977fb5030c",
   "metadata": {},
   "outputs": [
    {
     "name": "stdout",
     "output_type": "stream",
     "text": [
      "Initial generation/selection in 13.50 seconds\n"
     ]
    }
   ],
   "source": [
    "rng_seed = None\n",
    "rng = np.random.default_rng(seed=rng_seed)\n",
    "\n",
    "config = {\n",
    "    'backend_type': 'high',\n",
    "    'max_concurrent': 10,\n",
    "    'n_qubits': 3,\n",
    "    'max_moments': 10,\n",
    "    'add_moment_prob': 0.15,\n",
    "    'gates_arr': ['I', 'RX', 'RY', 'RZ', 'CNOT'],\n",
    "    'gates_probs': [0.175, 0.175, 0.175, 0.175, 0.3],\n",
    "    'pop_size': 40, # must be a multiple of max_concurrent\n",
    "    'init_pop_size': 1000,\n",
    "    'n_new_individuals': 6,\n",
    "    'n_winners': 20, # needs to be an even number\n",
    "    'n_mutations': 2,\n",
    "    'n_mate_swaps': 1,\n",
    "    'n_steps': 15,\n",
    "    'latent_qubits': 1,\n",
    "    'n_shots': 5000,\n",
    "    'seed': rng_seed,\n",
    "    'events': events,\n",
    "    'train_size': 1000,\n",
    "}\n",
    "\n",
    "ga = backend(config)"
   ]
  },
  {
   "cell_type": "code",
   "execution_count": null,
   "id": "ae44565f-30ea-4d47-af05-d4f5b45cb1ef",
   "metadata": {},
   "outputs": [
    {
     "name": "stdout",
     "output_type": "stream",
     "text": [
      "GA iteration 0\n",
      "Mem GA process - 269.5546875\n"
     ]
    },
    {
     "name": "stderr",
     "output_type": "stream",
     "text": [
      "/usr/local/lib/python3.8/site-packages/autograd/tracer.py:14: UserWarning: Output seems independent of input.\n",
      "  warnings.warn(\"Output seems independent of input.\")\n",
      "/usr/local/lib/python3.8/site-packages/autograd/tracer.py:14: UserWarning: Output seems independent of input.\n",
      "  warnings.warn(\"Output seems independent of input.\")\n",
      "/usr/local/lib/python3.8/site-packages/autograd/tracer.py:14: UserWarning: Output seems independent of input.\n",
      "  warnings.warn(\"Output seems independent of input.\")\n"
     ]
    },
    {
     "name": "stdout",
     "output_type": "stream",
     "text": [
      "Mem qml final - 464.51171875\n"
     ]
    },
    {
     "name": "stderr",
     "output_type": "stream",
     "text": [
      "/usr/local/lib/python3.8/site-packages/autograd/tracer.py:14: UserWarning: Output seems independent of input.\n",
      "  warnings.warn(\"Output seems independent of input.\")\n",
      "/usr/local/lib/python3.8/site-packages/autograd/tracer.py:14: UserWarning: Output seems independent of input.\n",
      "  warnings.warn(\"Output seems independent of input.\")\n",
      "/usr/local/lib/python3.8/site-packages/autograd/tracer.py:14: UserWarning: Output seems independent of input.\n",
      "  warnings.warn(\"Output seems independent of input.\")\n",
      "/usr/local/lib/python3.8/site-packages/autograd/tracer.py:14: UserWarning: Output seems independent of input.\n",
      "  warnings.warn(\"Output seems independent of input.\")\n",
      "/usr/local/lib/python3.8/site-packages/autograd/tracer.py:14: UserWarning: Output seems independent of input.\n",
      "  warnings.warn(\"Output seems independent of input.\")\n",
      "/usr/local/lib/python3.8/site-packages/autograd/tracer.py:14: UserWarning: Output seems independent of input.\n",
      "  warnings.warn(\"Output seems independent of input.\")\n",
      "/usr/local/lib/python3.8/site-packages/autograd/tracer.py:14: UserWarning: Output seems independent of input.\n",
      "  warnings.warn(\"Output seems independent of input.\")\n",
      "/usr/local/lib/python3.8/site-packages/autograd/tracer.py:14: UserWarning: Output seems independent of input.\n",
      "  warnings.warn(\"Output seems independent of input.\")\n"
     ]
    },
    {
     "name": "stdout",
     "output_type": "stream",
     "text": [
      "QML Optimization in 4201.63 seconds\n",
      "!! IMPROVED PERFORMANCE !!\n",
      "Best Fitness: 0.9928266666666666, Best ansatz: [{0: 'CNOT_T-2', 1: 'RX', 2: 'CNOT_C-0'}, {0: 'RX', 1: 'CNOT_C-2', 2: 'CNOT_T-1'}, {0: 'CNOT_C-2', 1: 'I', 2: 'CNOT_T-0'}, {0: 'RX', 1: 'I', 2: 'RY'}, {0: 'I', 1: 'I', 2: 'RZ'}, {0: 'RX', 1: 'RX', 2: 'RZ'}, {0: 'RY', 1: 'CNOT_T-2', 2: 'CNOT_C-1'}, {0: 'CNOT_C-1', 1: 'CNOT_T-0', 2: 'RZ'}]\n",
      "GA iteration 1\n",
      "Mem GA process - 270.30078125\n",
      "Mem qml final - 533.6484375\n"
     ]
    },
    {
     "name": "stderr",
     "output_type": "stream",
     "text": [
      "/usr/local/lib/python3.8/site-packages/autograd/tracer.py:14: UserWarning: Output seems independent of input.\n",
      "  warnings.warn(\"Output seems independent of input.\")\n",
      "/usr/local/lib/python3.8/site-packages/autograd/tracer.py:14: UserWarning: Output seems independent of input.\n",
      "  warnings.warn(\"Output seems independent of input.\")\n"
     ]
    },
    {
     "name": "stdout",
     "output_type": "stream",
     "text": [
      "QML Optimization in 7570.43 seconds\n",
      "!! IMPROVED PERFORMANCE !!\n",
      "Best Fitness: 0.9932666666666666, Best ansatz: [{0: 'RY', 1: 'RY', 2: 'RX'}, {0: 'RY', 1: 'RY', 2: 'RZ'}, {0: 'RZ', 1: 'RZ', 2: 'RY'}, {0: 'CNOT_T-2', 1: 'I', 2: 'CNOT_C-0'}, {0: 'I', 1: 'RZ', 2: 'RX'}, {0: 'RX', 1: 'CNOT_T-2', 2: 'CNOT_C-1'}, {0: 'RX', 1: 'RY', 2: 'RY'}, {0: 'RZ', 1: 'RX', 2: 'I'}]\n",
      "GA iteration 2\n",
      "Mem GA process - 270.5234375\n",
      "Mem qml final - 518.76953125\n"
     ]
    },
    {
     "name": "stderr",
     "output_type": "stream",
     "text": [
      "/usr/local/lib/python3.8/site-packages/autograd/tracer.py:14: UserWarning: Output seems independent of input.\n",
      "  warnings.warn(\"Output seems independent of input.\")\n"
     ]
    },
    {
     "name": "stdout",
     "output_type": "stream",
     "text": [
      "QML Optimization in 12454.22 seconds\n",
      "!! IMPROVED PERFORMANCE !!\n",
      "Best Fitness: 0.9936533333333334, Best ansatz: [{0: 'RZ', 1: 'RX', 2: 'RZ'}, {0: 'I', 1: 'CNOT_T-2', 2: 'CNOT_C-1'}, {0: 'I', 1: 'CNOT_C-2', 2: 'CNOT_T-1'}, {0: 'RY', 1: 'RX', 2: 'I'}, {0: 'CNOT_C-1', 1: 'CNOT_T-0', 2: 'RZ'}, {0: 'RZ', 1: 'CNOT_T-2', 2: 'CNOT_C-1'}, {0: 'RY', 1: 'RY', 2: 'RZ'}, {0: 'RY', 1: 'RX', 2: 'I'}, {0: 'RZ', 1: 'RY', 2: 'RZ'}, {0: 'I', 1: 'RX', 2: 'RZ'}]\n",
      "GA iteration 3\n",
      "Mem GA process - 270.55859375\n",
      "Mem qml final - 440.19140625\n",
      "QML Optimization in 15350.04 seconds\n",
      "Best Fitness: 0.9936533333333334, Best ansatz: [{0: 'RZ', 1: 'RX', 2: 'RZ'}, {0: 'I', 1: 'CNOT_T-2', 2: 'CNOT_C-1'}, {0: 'I', 1: 'CNOT_C-2', 2: 'CNOT_T-1'}, {0: 'RY', 1: 'RX', 2: 'I'}, {0: 'CNOT_C-1', 1: 'CNOT_T-0', 2: 'RZ'}, {0: 'RZ', 1: 'CNOT_T-2', 2: 'CNOT_C-1'}, {0: 'RY', 1: 'RY', 2: 'RZ'}, {0: 'RY', 1: 'RX', 2: 'I'}, {0: 'RZ', 1: 'RY', 2: 'RZ'}, {0: 'I', 1: 'RX', 2: 'RZ'}]\n",
      "GA iteration 4\n",
      "Mem GA process - 270.5859375\n",
      "Mem qml final - 438.03125\n",
      "QML Optimization in 15169.44 seconds\n",
      "Best Fitness: 0.9936533333333334, Best ansatz: [{0: 'RZ', 1: 'RX', 2: 'RZ'}, {0: 'I', 1: 'CNOT_T-2', 2: 'CNOT_C-1'}, {0: 'I', 1: 'CNOT_C-2', 2: 'CNOT_T-1'}, {0: 'RY', 1: 'RX', 2: 'I'}, {0: 'CNOT_C-1', 1: 'CNOT_T-0', 2: 'RZ'}, {0: 'RZ', 1: 'CNOT_T-2', 2: 'CNOT_C-1'}, {0: 'RY', 1: 'RY', 2: 'RZ'}, {0: 'RY', 1: 'RX', 2: 'I'}, {0: 'RZ', 1: 'RY', 2: 'RZ'}, {0: 'I', 1: 'RX', 2: 'RZ'}]\n",
      "GA iteration 5\n",
      "Mem GA process - 270.6640625\n",
      "Mem qml final - 465.89453125\n",
      "QML Optimization in 13044.30 seconds\n",
      "Best Fitness: 0.9936533333333334, Best ansatz: [{0: 'RZ', 1: 'RX', 2: 'RZ'}, {0: 'I', 1: 'CNOT_T-2', 2: 'CNOT_C-1'}, {0: 'I', 1: 'CNOT_C-2', 2: 'CNOT_T-1'}, {0: 'RY', 1: 'RX', 2: 'I'}, {0: 'CNOT_C-1', 1: 'CNOT_T-0', 2: 'RZ'}, {0: 'RZ', 1: 'CNOT_T-2', 2: 'CNOT_C-1'}, {0: 'RY', 1: 'RY', 2: 'RZ'}, {0: 'RY', 1: 'RX', 2: 'I'}, {0: 'RZ', 1: 'RY', 2: 'RZ'}, {0: 'I', 1: 'RX', 2: 'RZ'}]\n",
      "GA iteration 6\n",
      "Mem GA process - 270.6796875\n",
      "Mem qml final - 419.11328125\n"
     ]
    },
    {
     "name": "stderr",
     "output_type": "stream",
     "text": [
      "/usr/local/lib/python3.8/site-packages/autograd/tracer.py:14: UserWarning: Output seems independent of input.\n",
      "  warnings.warn(\"Output seems independent of input.\")\n"
     ]
    },
    {
     "name": "stdout",
     "output_type": "stream",
     "text": [
      "QML Optimization in 13954.13 seconds\n",
      "Best Fitness: 0.9936533333333334, Best ansatz: [{0: 'RZ', 1: 'RX', 2: 'RZ'}, {0: 'I', 1: 'CNOT_T-2', 2: 'CNOT_C-1'}, {0: 'I', 1: 'CNOT_C-2', 2: 'CNOT_T-1'}, {0: 'RY', 1: 'RX', 2: 'I'}, {0: 'CNOT_C-1', 1: 'CNOT_T-0', 2: 'RZ'}, {0: 'RZ', 1: 'CNOT_T-2', 2: 'CNOT_C-1'}, {0: 'RY', 1: 'RY', 2: 'RZ'}, {0: 'RY', 1: 'RX', 2: 'I'}, {0: 'RZ', 1: 'RY', 2: 'RZ'}, {0: 'I', 1: 'RX', 2: 'RZ'}]\n",
      "GA iteration 7\n",
      "Mem GA process - 270.703125\n",
      "Mem qml final - 513.37109375\n",
      "QML Optimization in 16101.53 seconds\n",
      "Best Fitness: 0.9936533333333334, Best ansatz: [{0: 'RZ', 1: 'RX', 2: 'RZ'}, {0: 'I', 1: 'CNOT_T-2', 2: 'CNOT_C-1'}, {0: 'I', 1: 'CNOT_C-2', 2: 'CNOT_T-1'}, {0: 'RY', 1: 'RX', 2: 'I'}, {0: 'CNOT_C-1', 1: 'CNOT_T-0', 2: 'RZ'}, {0: 'RZ', 1: 'CNOT_T-2', 2: 'CNOT_C-1'}, {0: 'RY', 1: 'RY', 2: 'RZ'}, {0: 'RY', 1: 'RX', 2: 'I'}, {0: 'RZ', 1: 'RY', 2: 'RZ'}, {0: 'I', 1: 'RX', 2: 'RZ'}]\n",
      "GA iteration 8\n",
      "Mem GA process - 270.73046875\n",
      "Mem qml final - 565.0\n",
      "QML Optimization in 18278.97 seconds\n",
      "Best Fitness: 0.9936533333333334, Best ansatz: [{0: 'RZ', 1: 'RX', 2: 'RZ'}, {0: 'I', 1: 'CNOT_T-2', 2: 'CNOT_C-1'}, {0: 'I', 1: 'CNOT_C-2', 2: 'CNOT_T-1'}, {0: 'RY', 1: 'RX', 2: 'I'}, {0: 'CNOT_C-1', 1: 'CNOT_T-0', 2: 'RZ'}, {0: 'RZ', 1: 'CNOT_T-2', 2: 'CNOT_C-1'}, {0: 'RY', 1: 'RY', 2: 'RZ'}, {0: 'RY', 1: 'RX', 2: 'I'}, {0: 'RZ', 1: 'RY', 2: 'RZ'}, {0: 'I', 1: 'RX', 2: 'RZ'}]\n",
      "GA iteration 9\n",
      "Mem GA process - 270.68359375\n",
      "Mem qml final - 365.29296875\n",
      "QML Optimization in 23277.46 seconds\n",
      "Best Fitness: 0.9936533333333334, Best ansatz: [{0: 'RZ', 1: 'RX', 2: 'RZ'}, {0: 'I', 1: 'CNOT_T-2', 2: 'CNOT_C-1'}, {0: 'I', 1: 'CNOT_C-2', 2: 'CNOT_T-1'}, {0: 'RY', 1: 'RX', 2: 'I'}, {0: 'CNOT_C-1', 1: 'CNOT_T-0', 2: 'RZ'}, {0: 'RZ', 1: 'CNOT_T-2', 2: 'CNOT_C-1'}, {0: 'RY', 1: 'RY', 2: 'RZ'}, {0: 'RY', 1: 'RX', 2: 'I'}, {0: 'RZ', 1: 'RY', 2: 'RZ'}, {0: 'I', 1: 'RX', 2: 'RZ'}]\n",
      "GA iteration 10\n",
      "Mem GA process - 210.875\n",
      "Mem qml final - 551.48828125\n",
      "QML Optimization in 27605.92 seconds\n",
      "!! IMPROVED PERFORMANCE !!\n",
      "Best Fitness: 0.9937333333333334, Best ansatz: [{0: 'RZ', 1: 'CNOT_T-2', 2: 'CNOT_C-1'}, {0: 'I', 1: 'RY', 2: 'RY'}, {0: 'CNOT_T-1', 1: 'CNOT_C-0', 2: 'RX'}, {0: 'I', 1: 'RX', 2: 'RY'}, {0: 'CNOT_C-1', 1: 'CNOT_T-0', 2: 'RX'}, {0: 'RZ', 1: 'RY', 2: 'RX'}, {0: 'RX', 1: 'RY', 2: 'RZ'}, {0: 'CNOT_T-1', 1: 'CNOT_C-0', 2: 'I'}, {0: 'CNOT_C-2', 1: 'RX', 2: 'CNOT_T-0'}, {0: 'RZ', 1: 'RY', 2: 'RY'}, {0: 'CNOT_T-1', 1: 'CNOT_C-0', 2: 'RX'}, {0: 'RX', 1: 'RZ', 2: 'RZ'}, {0: 'CNOT_T-1', 1: 'CNOT_C-0', 2: 'RX'}, {0: 'RY', 1: 'RY', 2: 'I'}, {0: 'I', 1: 'RZ', 2: 'RY'}, {0: 'I', 1: 'RY', 2: 'I'}, {0: 'I', 1: 'RZ', 2: 'RZ'}, {0: 'CNOT_T-2', 1: 'RY', 2: 'CNOT_C-0'}, {0: 'RX', 1: 'RZ', 2: 'RY'}, {0: 'RZ', 1: 'CNOT_T-2', 2: 'CNOT_C-1'}]\n",
      "GA iteration 11\n",
      "Mem GA process - 199.5703125\n"
     ]
    }
   ],
   "source": [
    "ga.evolve()"
   ]
  },
  {
   "cell_type": "code",
   "execution_count": null,
   "id": "fb6181d6-a8d0-4a25-a9c1-c01de7ba85f5",
   "metadata": {},
   "outputs": [],
   "source": []
  }
 ],
 "metadata": {
  "kernelspec": {
   "display_name": "Python 3 (ipykernel)",
   "language": "python",
   "name": "python3"
  },
  "language_info": {
   "codemirror_mode": {
    "name": "ipython",
    "version": 3
   },
   "file_extension": ".py",
   "mimetype": "text/x-python",
   "name": "python",
   "nbconvert_exporter": "python",
   "pygments_lexer": "ipython3",
   "version": "3.8.8"
  }
 },
 "nbformat": 4,
 "nbformat_minor": 5
}
